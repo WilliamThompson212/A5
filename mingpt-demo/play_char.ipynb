{
 "cells": [
  {
   "cell_type": "markdown",
   "source": [
    "## Train a character-level GPT on some text data\n",
    "\n",
    "The inputs here are simple text files, which we chop up to individual characters and then train GPT on. So you could say this is a char-transformer instead of a char-rnn. Doesn't quite roll off the tongue as well. In this example we will feed it some Shakespeare, which we'll get it to predict character-level."
   ],
   "metadata": {}
  },
  {
   "cell_type": "code",
   "execution_count": 2,
   "source": [
    "# set up logging\r\n",
    "import logging\r\n",
    "logging.basicConfig(\r\n",
    "        format=\"%(asctime)s - %(levelname)s - %(name)s -   %(message)s\",\r\n",
    "        datefmt=\"%m/%d/%Y %H:%M:%S\",\r\n",
    "        level=logging.INFO,\r\n",
    ")"
   ],
   "outputs": [],
   "metadata": {}
  },
  {
   "cell_type": "code",
   "execution_count": 3,
   "source": [
    "# make deterministic\r\n",
    "from mingpt.utils import set_seed\r\n",
    "set_seed(42)"
   ],
   "outputs": [],
   "metadata": {}
  },
  {
   "cell_type": "code",
   "execution_count": 4,
   "source": [
    "import numpy as np\r\n",
    "import torch\r\n",
    "import torch.nn as nn\r\n",
    "from torch.nn import functional as F"
   ],
   "outputs": [],
   "metadata": {}
  },
  {
   "cell_type": "code",
   "execution_count": 6,
   "source": [
    "import math\r\n",
    "from torch.utils.data import Dataset\r\n",
    "\r\n",
    "class CharDataset(Dataset):\r\n",
    "\r\n",
    "    def __init__(self, data, block_size):\r\n",
    "        chars = sorted(list(set(data)))\r\n",
    "        data_size, vocab_size = len(data), len(chars)\r\n",
    "        print('data has %d characters, %d unique.' % (data_size, vocab_size))\r\n",
    "        \r\n",
    "        self.stoi = { ch:i for i,ch in enumerate(chars) }\r\n",
    "        self.itos = { i:ch for i,ch in enumerate(chars) }\r\n",
    "        self.block_size = block_size\r\n",
    "        self.vocab_size = vocab_size\r\n",
    "        self.data = data\r\n",
    "    \r\n",
    "    def __len__(self):\r\n",
    "        return len(self.data) - self.block_size\r\n",
    "\r\n",
    "    def __getitem__(self, idx):\r\n",
    "        # grab a chunk of (block_size + 1) characters from the data\r\n",
    "        chunk = self.data[idx:idx + self.block_size + 1]\r\n",
    "        # encode every character to an integer\r\n",
    "        dix = [self.stoi[s] for s in chunk]\r\n",
    "        \"\"\"\r\n",
    "        arrange data and targets so that the first i elements of x\r\n",
    "        will be asked to predict the i-th element of y. Notice that\r\n",
    "        the eventual language model will actually make block_size\r\n",
    "        individual predictions at the same time based on this data,\r\n",
    "        so we are being clever and amortizing the cost of the forward\r\n",
    "        pass of the network. So for example if block_size is 4, then\r\n",
    "        we could e.g. sample a chunk of text \"hello\", the integers in\r\n",
    "        x will correspond to \"hell\" and in y will be \"ello\". This will\r\n",
    "        then actually \"multitask\" 4 separate examples at the same time\r\n",
    "        in the language model:\r\n",
    "        - given just \"h\", please predict \"e\" as next\r\n",
    "        - given \"he\" please predict \"l\" next\r\n",
    "        - given \"hel\" predict \"l\" next\r\n",
    "        - given \"hell\" predict \"o\" next\r\n",
    "        \r\n",
    "        In addition, because the DataLoader will create batches of examples,\r\n",
    "        every forward/backward pass during traning will simultaneously train\r\n",
    "        a LOT of predictions, amortizing a lot of computation. In particular,\r\n",
    "        for a batched input of integers X (B, T) where B is batch size and\r\n",
    "        T is block_size and Y (B, T), the network will during training be\r\n",
    "        simultaneously training to make B*T predictions, all at once! Of course,\r\n",
    "        at test time we can paralellize across batch B, but unlike during training\r\n",
    "        we cannot parallelize across the time dimension T - we have to run\r\n",
    "        a forward pass of the network to recover the next single character of the \r\n",
    "        sequence along each batch dimension, and repeatedly always feed in a next\r\n",
    "        character to get the next one.\r\n",
    "        \r\n",
    "        So yes there is a big asymmetry between train/test time of autoregressive\r\n",
    "        models. During training we can go B*T at a time with every forward pass,\r\n",
    "        but during test time we can only go B at a time, T times, with T forward \r\n",
    "        passes.\r\n",
    "        \"\"\"\r\n",
    "        x = torch.tensor(dix[:-1], dtype=torch.long)\r\n",
    "        y = torch.tensor(dix[1:], dtype=torch.long)\r\n",
    "        return x, y\r\n"
   ],
   "outputs": [],
   "metadata": {}
  },
  {
   "cell_type": "code",
   "execution_count": 7,
   "source": [
    "block_size = 128 # spatial extent of the model for its context"
   ],
   "outputs": [],
   "metadata": {}
  },
  {
   "cell_type": "code",
   "execution_count": 8,
   "source": [
    "# you can download this file at https://github.com/karpathy/char-rnn/blob/master/data/tinyshakespeare/input.txt\r\n",
    "text = open('input.txt', 'r').read() # don't worry we won't run out of file handles\r\n",
    "train_dataset = CharDataset(text, block_size) # one line of poem is roughly 50 characters"
   ],
   "outputs": [
    {
     "output_type": "stream",
     "name": "stdout",
     "text": [
      "data has 1115394 characters, 65 unique.\n"
     ]
    }
   ],
   "metadata": {}
  },
  {
   "cell_type": "code",
   "execution_count": 9,
   "source": [
    "from mingpt.model import GPT, GPTConfig\r\n",
    "mconf = GPTConfig(train_dataset.vocab_size, train_dataset.block_size,\r\n",
    "                  n_layer=8, n_head=8, n_embd=512)\r\n",
    "model = GPT(mconf)"
   ],
   "outputs": [
    {
     "output_type": "stream",
     "name": "stderr",
     "text": [
      "08/21/2021 18:12:26 - INFO - mingpt.model -   number of parameters: 2.535219e+07\n"
     ]
    }
   ],
   "metadata": {}
  },
  {
   "cell_type": "code",
   "execution_count": 10,
   "source": [
    "from mingpt.trainer import Trainer, TrainerConfig\r\n",
    "\r\n",
    "# initialize a trainer instance and kick off training\r\n",
    "tconf = TrainerConfig(max_epochs=2, batch_size=512, learning_rate=6e-4,\r\n",
    "                      lr_decay=True, warmup_tokens=512*20, final_tokens=2*len(train_dataset)*block_size,\r\n",
    "                      num_workers=4)\r\n",
    "trainer = Trainer(model, train_dataset, None, tconf)\r\n",
    "trainer.train()"
   ],
   "outputs": [],
   "metadata": {}
  },
  {
   "cell_type": "code",
   "execution_count": 10,
   "source": [
    "# alright, let's sample some character-level Shakespeare\r\n",
    "from mingpt.utils import sample\r\n",
    "\r\n",
    "context = \"O God, O God!\"\r\n",
    "x = torch.tensor([train_dataset.stoi[s] for s in context], dtype=torch.long)[None,...].to(trainer.device)\r\n",
    "y = sample(model, x, 2000, temperature=1.0, sample=True, top_k=10)[0]\r\n",
    "completion = ''.join([train_dataset.itos[int(i)] for i in y])\r\n",
    "print(completion)"
   ],
   "outputs": [
    {
     "output_type": "stream",
     "name": "stdout",
     "text": [
      "O God, O God! that e'er this tongue of mine,\n",
      "That laid the sentence of dread banishment\n",
      "On yon proud man, should take it off again\n",
      "With words of sooth! O that I were as great\n",
      "As is my grief, or lesser than my name!\n",
      "Or that I could forget\n",
      "With Richmond, I'll tell you what I am,\n",
      "The Lord Aumerle, .\n",
      "\n",
      "CLAUDIO:\n",
      "The prenzie Angelo!\n",
      "\n",
      "ISABELLA:\n",
      "O, 'tis the cunning livery of hell,\n",
      "The damned'st body to invest and cover\n",
      "In prenzie guards! Dost thou think, Claudio?\n",
      "If I would yield him my virginity,\n",
      "Thou mightst be freed.\n",
      "\n",
      "CLAUDIO:\n",
      "O heavens! it cannot be.\n",
      "\n",
      "ISABELLA:\n",
      "Yes, he would give't thee, from this rank offence,\n",
      "So to offend him still. This night's the time\n",
      "That I should do what I abhor to name,\n",
      "Or else thou diest to-morrow.\n",
      "\n",
      "CLAUDIO:\n",
      "Thou shalt not do't.\n",
      "\n",
      "ISABELLA:\n",
      "O, were it but my life,\n",
      "I'ld throw it down for your deliverance\n",
      "As frankly as a pin.\n",
      "\n",
      "CLAUDIO:\n",
      "Thanks, dear Isabel.\n",
      "\n",
      "ISABELLA:\n",
      "Be ready, Claudio, for your death tomorrow.\n",
      "\n",
      "CLAUDIO:\n",
      "Yes. Has he affections\n",
      "That profit us.\n",
      "\n",
      "DUKE VINCENTIO:\n",
      "By the world they see the word in 's doom.\n",
      "\n",
      "ANGELO:\n",
      "Thou art the like, thus hate the course in heaven.\n",
      "What foul hath bled the wheel or at wild,\n",
      "And wash him fresh again with true-love tears.\n",
      "Ah, thou, the model where old Troy did stand,\n",
      "Thou map of honour, thou King Richard's tomb,\n",
      "And not King Richard; thou most beauteous inn,\n",
      "Why should hard-favour'd grief be lodged in thee,\n",
      "When triumph is become an alehouse guest?\n",
      "\n",
      "KING RICHARD II:\n",
      "Join not with grief, fair woman, do not so,\n",
      "To make my end too sudden: learn, good soul,\n",
      "To think our former state a happy dream;\n",
      "From which awaked, the truth of what we are\n",
      "Shows us but this: I am sworn brother, sweet,\n",
      "To grim Necessity, and he and I\n",
      "Will keep a league till death. Hie thee to France\n",
      "And cloister thee in some religious house:\n",
      "Our holy lives must win a new world's crown,\n",
      "Which our profane hours here have stricken down.\n",
      "\n",
      "QUEEN:\n",
      "What, is my Richard both in shape and mind\n",
      "Transform'd and weaken'd? hath Bolingbroke deposed\n",
      "Thine intellect? hath h\n"
     ]
    }
   ],
   "metadata": {}
  },
  {
   "cell_type": "code",
   "execution_count": null,
   "source": [
    "# well that was fun"
   ],
   "outputs": [],
   "metadata": {}
  }
 ],
 "metadata": {
  "kernelspec": {
   "name": "python3",
   "display_name": "Python 3.8.10 64-bit (conda)"
  },
  "language_info": {
   "codemirror_mode": {
    "name": "ipython",
    "version": 3
   },
   "file_extension": ".py",
   "mimetype": "text/x-python",
   "name": "python",
   "nbconvert_exporter": "python",
   "pygments_lexer": "ipython3",
   "version": "3.8.10"
  },
  "interpreter": {
   "hash": "91f309acf83596856270089ea03d678bf9925743f20b0f9583a9d7c26757c6be"
  }
 },
 "nbformat": 4,
 "nbformat_minor": 4
}